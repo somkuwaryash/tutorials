{
  "nbformat": 4,
  "nbformat_minor": 0,
  "metadata": {
    "colab": {
      "name": "send email using python.ipynb",
      "provenance": [],
      "authorship_tag": "ABX9TyP880hdglj67GBlRoZBV/US",
      "include_colab_link": true
    },
    "kernelspec": {
      "name": "python3",
      "display_name": "Python 3"
    }
  },
  "cells": [
    {
      "cell_type": "markdown",
      "metadata": {
        "id": "view-in-github",
        "colab_type": "text"
      },
      "source": [
        "<a href=\"https://colab.research.google.com/github/somkuwaryash/tutorials/blob/master/send_email_using_python.ipynb\" target=\"_parent\"><img src=\"https://colab.research.google.com/assets/colab-badge.svg\" alt=\"Open In Colab\"/></a>"
      ]
    },
    {
      "cell_type": "code",
      "metadata": {
        "id": "yU9klQUNJUej",
        "colab_type": "code",
        "colab": {}
      },
      "source": [
        "import smtplib, ssl\n",
        "\n",
        "port = 465 #For SSL\n",
        "\n",
        "password = input(\"Type your password and press enter:\")\n",
        "\n",
        "\n",
        "#Creating a secure SSL context\n",
        "\n",
        "context = ssl.create_default_context()\n",
        "\n",
        "with smtplib.SMTP_SSL(\"smtp.gmail.com\", port, context=context) as server:\n",
        "  server.login(\"somkuwar.techfest@gmail.com\",password)\n",
        "  #TODO: Send email here"
      ],
      "execution_count": null,
      "outputs": []
    },
    {
      "cell_type": "code",
      "metadata": {
        "id": "G6WPu7eOLjNC",
        "colab_type": "code",
        "colab": {}
      },
      "source": [
        "sender_email=\"somkuwar.techfest@gmail.com\"\n",
        "receiver_email=\"sameer.d.raipure@gmail.com\"\n",
        "message = '''\\\n",
        "Subject: Hi There\n",
        "\n",
        "yeh ek saadharan email hai jo python ki madad se bheja gaya hai agar yeh email tere tak paucha toh grp pe iska screenshot daale'''"
      ],
      "execution_count": 8,
      "outputs": []
    },
    {
      "cell_type": "code",
      "metadata": {
        "id": "y8wunKzUM4_9",
        "colab_type": "code",
        "colab": {}
      },
      "source": [
        "server.sendmail(sender_email, receiver_email, message)"
      ],
      "execution_count": null,
      "outputs": []
    },
    {
      "cell_type": "code",
      "metadata": {
        "id": "MKXbJnx-NyZV",
        "colab_type": "code",
        "colab": {}
      },
      "source": [
        ""
      ],
      "execution_count": null,
      "outputs": []
    }
  ]
}